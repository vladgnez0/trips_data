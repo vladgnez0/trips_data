{
  "nbformat": 4,
  "nbformat_minor": 0,
  "metadata": {
    "colab": {
      "provenance": [],
      "include_colab_link": true
    },
    "kernelspec": {
      "name": "python3",
      "display_name": "Python 3"
    },
    "language_info": {
      "name": "python"
    }
  },
  "cells": [
    {
      "cell_type": "markdown",
      "metadata": {
        "id": "view-in-github",
        "colab_type": "text"
      },
      "source": [
        "<a href=\"https://colab.research.google.com/github/vladgnez0/trips_data/blob/main/_trips_data_ipynb.ipynb\" target=\"_parent\"><img src=\"https://colab.research.google.com/assets/colab-badge.svg\" alt=\"Open In Colab\"/></a>"
      ]
    },
    {
      "cell_type": "code",
      "metadata": {
        "id": "TRb0NPJ-kOs6"
      },
      "source": [
        "import pandas as pd"
      ],
      "execution_count": null,
      "outputs": []
    },
    {
      "cell_type": "code",
      "metadata": {
        "colab": {
          "base_uri": "https://localhost:8080/",
          "height": 302
        },
        "id": "tN_0Heveo2q-",
        "outputId": "b5e7701c-a3d5-4f56-af22-9f4a3a75bbbf"
      },
      "source": [
        "df = pd.read_excel(\"t_data.xlsx\") #, index_col=\"Unnamed: 0\")\n",
        "df.head() "
      ],
      "execution_count": null,
      "outputs": [
        {
          "output_type": "execute_result",
          "data": {
            "text/plain": [
              "   Unnamed: 0    salary          city   age vacation_preference  \\\n",
              "0         0.0  196000.0     Краснодар  25.0             Шоппинг   \n",
              "1         1.0  152000.0  Екатеринбург  60.0         Архитектура   \n",
              "2         2.0   83000.0         Томск  49.0         Архитектура   \n",
              "3         3.0  161000.0     Краснодар  41.0             Шоппинг   \n",
              "4         4.0  146000.0     Краснодар  58.0         Архитектура   \n",
              "\n",
              "  transport_preference  family_members    target  \n",
              "0           Автомобиль             1.0  New York  \n",
              "1              Самолет             1.0    London  \n",
              "2           Автомобиль             2.0    Sydney  \n",
              "3           Автомобиль             0.0  New York  \n",
              "4              Самолет             1.0    Sydney  "
            ],
            "text/html": [
              "\n",
              "  <div id=\"df-c16aede4-defb-471c-88c4-9d5bbb8ba342\">\n",
              "    <div class=\"colab-df-container\">\n",
              "      <div>\n",
              "<style scoped>\n",
              "    .dataframe tbody tr th:only-of-type {\n",
              "        vertical-align: middle;\n",
              "    }\n",
              "\n",
              "    .dataframe tbody tr th {\n",
              "        vertical-align: top;\n",
              "    }\n",
              "\n",
              "    .dataframe thead th {\n",
              "        text-align: right;\n",
              "    }\n",
              "</style>\n",
              "<table border=\"1\" class=\"dataframe\">\n",
              "  <thead>\n",
              "    <tr style=\"text-align: right;\">\n",
              "      <th></th>\n",
              "      <th>Unnamed: 0</th>\n",
              "      <th>salary</th>\n",
              "      <th>city</th>\n",
              "      <th>age</th>\n",
              "      <th>vacation_preference</th>\n",
              "      <th>transport_preference</th>\n",
              "      <th>family_members</th>\n",
              "      <th>target</th>\n",
              "    </tr>\n",
              "  </thead>\n",
              "  <tbody>\n",
              "    <tr>\n",
              "      <th>0</th>\n",
              "      <td>0.0</td>\n",
              "      <td>196000.0</td>\n",
              "      <td>Краснодар</td>\n",
              "      <td>25.0</td>\n",
              "      <td>Шоппинг</td>\n",
              "      <td>Автомобиль</td>\n",
              "      <td>1.0</td>\n",
              "      <td>New York</td>\n",
              "    </tr>\n",
              "    <tr>\n",
              "      <th>1</th>\n",
              "      <td>1.0</td>\n",
              "      <td>152000.0</td>\n",
              "      <td>Екатеринбург</td>\n",
              "      <td>60.0</td>\n",
              "      <td>Архитектура</td>\n",
              "      <td>Самолет</td>\n",
              "      <td>1.0</td>\n",
              "      <td>London</td>\n",
              "    </tr>\n",
              "    <tr>\n",
              "      <th>2</th>\n",
              "      <td>2.0</td>\n",
              "      <td>83000.0</td>\n",
              "      <td>Томск</td>\n",
              "      <td>49.0</td>\n",
              "      <td>Архитектура</td>\n",
              "      <td>Автомобиль</td>\n",
              "      <td>2.0</td>\n",
              "      <td>Sydney</td>\n",
              "    </tr>\n",
              "    <tr>\n",
              "      <th>3</th>\n",
              "      <td>3.0</td>\n",
              "      <td>161000.0</td>\n",
              "      <td>Краснодар</td>\n",
              "      <td>41.0</td>\n",
              "      <td>Шоппинг</td>\n",
              "      <td>Автомобиль</td>\n",
              "      <td>0.0</td>\n",
              "      <td>New York</td>\n",
              "    </tr>\n",
              "    <tr>\n",
              "      <th>4</th>\n",
              "      <td>4.0</td>\n",
              "      <td>146000.0</td>\n",
              "      <td>Краснодар</td>\n",
              "      <td>58.0</td>\n",
              "      <td>Архитектура</td>\n",
              "      <td>Самолет</td>\n",
              "      <td>1.0</td>\n",
              "      <td>Sydney</td>\n",
              "    </tr>\n",
              "  </tbody>\n",
              "</table>\n",
              "</div>\n",
              "      <button class=\"colab-df-convert\" onclick=\"convertToInteractive('df-c16aede4-defb-471c-88c4-9d5bbb8ba342')\"\n",
              "              title=\"Convert this dataframe to an interactive table.\"\n",
              "              style=\"display:none;\">\n",
              "        \n",
              "  <svg xmlns=\"http://www.w3.org/2000/svg\" height=\"24px\"viewBox=\"0 0 24 24\"\n",
              "       width=\"24px\">\n",
              "    <path d=\"M0 0h24v24H0V0z\" fill=\"none\"/>\n",
              "    <path d=\"M18.56 5.44l.94 2.06.94-2.06 2.06-.94-2.06-.94-.94-2.06-.94 2.06-2.06.94zm-11 1L8.5 8.5l.94-2.06 2.06-.94-2.06-.94L8.5 2.5l-.94 2.06-2.06.94zm10 10l.94 2.06.94-2.06 2.06-.94-2.06-.94-.94-2.06-.94 2.06-2.06.94z\"/><path d=\"M17.41 7.96l-1.37-1.37c-.4-.4-.92-.59-1.43-.59-.52 0-1.04.2-1.43.59L10.3 9.45l-7.72 7.72c-.78.78-.78 2.05 0 2.83L4 21.41c.39.39.9.59 1.41.59.51 0 1.02-.2 1.41-.59l7.78-7.78 2.81-2.81c.8-.78.8-2.07 0-2.86zM5.41 20L4 18.59l7.72-7.72 1.47 1.35L5.41 20z\"/>\n",
              "  </svg>\n",
              "      </button>\n",
              "      \n",
              "  <style>\n",
              "    .colab-df-container {\n",
              "      display:flex;\n",
              "      flex-wrap:wrap;\n",
              "      gap: 12px;\n",
              "    }\n",
              "\n",
              "    .colab-df-convert {\n",
              "      background-color: #E8F0FE;\n",
              "      border: none;\n",
              "      border-radius: 50%;\n",
              "      cursor: pointer;\n",
              "      display: none;\n",
              "      fill: #1967D2;\n",
              "      height: 32px;\n",
              "      padding: 0 0 0 0;\n",
              "      width: 32px;\n",
              "    }\n",
              "\n",
              "    .colab-df-convert:hover {\n",
              "      background-color: #E2EBFA;\n",
              "      box-shadow: 0px 1px 2px rgba(60, 64, 67, 0.3), 0px 1px 3px 1px rgba(60, 64, 67, 0.15);\n",
              "      fill: #174EA6;\n",
              "    }\n",
              "\n",
              "    [theme=dark] .colab-df-convert {\n",
              "      background-color: #3B4455;\n",
              "      fill: #D2E3FC;\n",
              "    }\n",
              "\n",
              "    [theme=dark] .colab-df-convert:hover {\n",
              "      background-color: #434B5C;\n",
              "      box-shadow: 0px 1px 3px 1px rgba(0, 0, 0, 0.15);\n",
              "      filter: drop-shadow(0px 1px 2px rgba(0, 0, 0, 0.3));\n",
              "      fill: #FFFFFF;\n",
              "    }\n",
              "  </style>\n",
              "\n",
              "      <script>\n",
              "        const buttonEl =\n",
              "          document.querySelector('#df-c16aede4-defb-471c-88c4-9d5bbb8ba342 button.colab-df-convert');\n",
              "        buttonEl.style.display =\n",
              "          google.colab.kernel.accessAllowed ? 'block' : 'none';\n",
              "\n",
              "        async function convertToInteractive(key) {\n",
              "          const element = document.querySelector('#df-c16aede4-defb-471c-88c4-9d5bbb8ba342');\n",
              "          const dataTable =\n",
              "            await google.colab.kernel.invokeFunction('convertToInteractive',\n",
              "                                                     [key], {});\n",
              "          if (!dataTable) return;\n",
              "\n",
              "          const docLinkHtml = 'Like what you see? Visit the ' +\n",
              "            '<a target=\"_blank\" href=https://colab.research.google.com/notebooks/data_table.ipynb>data table notebook</a>'\n",
              "            + ' to learn more about interactive tables.';\n",
              "          element.innerHTML = '';\n",
              "          dataTable['output_type'] = 'display_data';\n",
              "          await google.colab.output.renderOutput(dataTable, element);\n",
              "          const docLink = document.createElement('div');\n",
              "          docLink.innerHTML = docLinkHtml;\n",
              "          element.appendChild(docLink);\n",
              "        }\n",
              "      </script>\n",
              "    </div>\n",
              "  </div>\n",
              "  "
            ]
          },
          "metadata": {},
          "execution_count": 3
        }
      ]
    },
    {
      "cell_type": "code",
      "metadata": {
        "colab": {
          "base_uri": "https://localhost:8080/"
        },
        "id": "uepHf7QdqRfP",
        "outputId": "a66bab8e-ddc4-4be9-d270-a246662c706e"
      },
      "source": [
        "df.info()"
      ],
      "execution_count": null,
      "outputs": [
        {
          "output_type": "stream",
          "name": "stdout",
          "text": [
            "<class 'pandas.core.frame.DataFrame'>\n",
            "RangeIndex: 1000 entries, 0 to 999\n",
            "Data columns (total 8 columns):\n",
            " #   Column                Non-Null Count  Dtype  \n",
            "---  ------                --------------  -----  \n",
            " 0   Unnamed: 0            1000 non-null   float64\n",
            " 1   salary                1000 non-null   float64\n",
            " 2   city                  1000 non-null   object \n",
            " 3   age                   1000 non-null   float64\n",
            " 4   vacation_preference   1000 non-null   object \n",
            " 5   transport_preference  1000 non-null   object \n",
            " 6   family_members        1000 non-null   float64\n",
            " 7   target                1000 non-null   object \n",
            "dtypes: float64(4), object(4)\n",
            "memory usage: 62.6+ KB\n"
          ]
        }
      ]
    },
    {
      "cell_type": "code",
      "metadata": {
        "colab": {
          "base_uri": "https://localhost:8080/",
          "height": 282
        },
        "id": "uRqJdfrKrLFp",
        "outputId": "f114d1e0-44ea-4fa5-f4cc-575abec8c668"
      },
      "source": [
        "df[\"salary\"].hist()"
      ],
      "execution_count": null,
      "outputs": [
        {
          "output_type": "execute_result",
          "data": {
            "text/plain": [
              "<AxesSubplot:>"
            ]
          },
          "metadata": {},
          "execution_count": 5
        },
        {
          "output_type": "display_data",
          "data": {
            "text/plain": [
              "<Figure size 432x288 with 1 Axes>"
            ],
            "image/png": "[encoded data removed]"
          },
          "metadata": {
            "needs_background": "light"
          }
        }
      ]
    },
    {
      "cell_type": "code",
      "metadata": {
        "colab": {
          "base_uri": "https://localhost:8080/"
        },
        "id": "SxfnQlz4sXk5",
        "outputId": "72b679f1-45a2-43f4-916d-3bddd6ba06ee"
      },
      "source": [
        "df[\"city\"].value_counts()"
      ],
      "execution_count": null,
      "outputs": [
        {
          "output_type": "execute_result",
          "data": {
            "text/plain": [
              "Краснодар       307\n",
              "Томск           267\n",
              "Хабаровск       107\n",
              "Киев            106\n",
              "Омск             84\n",
              "Екатеринбург     67\n",
              "Новосибирск      33\n",
              "Минск            14\n",
              "Петербург        13\n",
              "Ярославль         1\n",
              "Москва            1\n",
              "Name: city, dtype: int64"
            ]
          },
          "metadata": {},
          "execution_count": 6
        }
      ]
    },
    {
      "cell_type": "code",
      "metadata": {
        "colab": {
          "base_uri": "https://localhost:8080/",
          "height": 387
        },
        "id": "TwjHY7GHsxUm",
        "outputId": "f12c5e49-8259-4ee8-a27c-19eea745402c"
      },
      "source": [
        "df[\"transport_preference\"].value_counts().plot(kind=\"bar\")"
      ],
      "execution_count": null,
      "outputs": [
        {
          "output_type": "execute_result",
          "data": {
            "text/plain": [
              "<AxesSubplot:>"
            ]
          },
          "metadata": {},
          "execution_count": 7
        },
        {
          "output_type": "display_data",
          "data": {
            "text/plain": [
              "<Figure size 432x288 with 1 Axes>"
            ],
            "image/png": "[encoded data removed]"
          },
          "metadata": {
            "needs_background": "light"
          }
        }
      ]
    },
    {
      "cell_type": "code",
      "metadata": {
        "colab": {
          "base_uri": "https://localhost:8080/"
        },
        "id": "v-VJyRYIt3qT",
        "outputId": "af0fb1cb-9785-4e86-a281-29e2ed3f0b5a"
      },
      "source": [
        "df[\"salary\"].describe()"
      ],
      "execution_count": null,
      "outputs": [
        {
          "output_type": "execute_result",
          "data": {
            "text/plain": [
              "count      1000.000000\n",
              "mean     111935.000000\n",
              "std       54580.049073\n",
              "min           0.000000\n",
              "25%       68000.000000\n",
              "50%       99000.000000\n",
              "75%      161000.000000\n",
              "max      250000.000000\n",
              "Name: salary, dtype: float64"
            ]
          },
          "metadata": {},
          "execution_count": 8
        }
      ]
    },
    {
      "cell_type": "code",
      "metadata": {
        "colab": {
          "base_uri": "https://localhost:8080/"
        },
        "id": "1Q9zgYbauVnT",
        "outputId": "7907c8b3-dc4e-4e80-d5cd-0930eefaec59"
      },
      "source": [
        "df.groupby(\"city\")[\"salary\"].min()"
      ],
      "execution_count": null,
      "outputs": [
        {
          "output_type": "execute_result",
          "data": {
            "text/plain": [
              "city\n",
              "Екатеринбург     58000.0\n",
              "Киев             12000.0\n",
              "Краснодар            0.0\n",
              "Минск             9000.0\n",
              "Москва          206000.0\n",
              "Новосибирск      57000.0\n",
              "Омск             83000.0\n",
              "Петербург       146000.0\n",
              "Томск             2000.0\n",
              "Хабаровск         8000.0\n",
              "Ярославль        32000.0\n",
              "Name: salary, dtype: float64"
            ]
          },
          "metadata": {},
          "execution_count": 9
        }
      ]
    },
    {
      "cell_type": "code",
      "metadata": {
        "colab": {
          "base_uri": "https://localhost:8080/"
        },
        "id": "s47t-PT0vWAZ",
        "outputId": "c1049221-12e9-454a-fcfd-f52e90193a61"
      },
      "source": [
        "df.groupby(\"transport_preference\")[\"salary\"].mean()"
      ],
      "execution_count": null,
      "outputs": [
        {
          "output_type": "execute_result",
          "data": {
            "text/plain": [
              "transport_preference\n",
              "Автомобиль              98430.079156\n",
              "Космический корабль    161000.000000\n",
              "Морской транспорт      121759.036145\n",
              "Поезд                   96939.189189\n",
              "Самолет                128575.835476\n",
              "Name: salary, dtype: float64"
            ]
          },
          "metadata": {},
          "execution_count": 10
        }
      ]
    },
    {
      "cell_type": "code",
      "metadata": {
        "colab": {
          "base_uri": "https://localhost:8080/"
        },
        "id": "IkPpOwO2wZNs",
        "outputId": "bff1e199-acc7-44c3-f62e-3b1f99c798ce"
      },
      "source": [
        "df.groupby(\"transport_preference\")[\"age\"].mean()"
      ],
      "execution_count": null,
      "outputs": [
        {
          "output_type": "execute_result",
          "data": {
            "text/plain": [
              "transport_preference\n",
              "Автомобиль             51.965699\n",
              "Космический корабль    63.000000\n",
              "Морской транспорт      55.891566\n",
              "Поезд                  49.952703\n",
              "Самолет                60.203085\n",
              "Name: age, dtype: float64"
            ]
          },
          "metadata": {},
          "execution_count": 11
        }
      ]
    },
    {
      "cell_type": "code",
      "metadata": {
        "id": "D5mO5p0QPF1q"
      },
      "source": [
        "df = pd.get_dummies(df, columns=[\"city\", \"vacation_preference\",\"transport_preference\"])"
      ],
      "execution_count": null,
      "outputs": []
    },
    {
      "cell_type": "code",
      "source": [
        "df.info()"
      ],
      "metadata": {
        "colab": {
          "base_uri": "https://localhost:8080/"
        },
        "id": "iQt3zo_8mVLL",
        "outputId": "bdb14186-5b85-43e9-a6cf-41f505df04fa"
      },
      "execution_count": null,
      "outputs": [
        {
          "output_type": "stream",
          "name": "stdout",
          "text": [
            "<class 'pandas.core.frame.DataFrame'>\n",
            "RangeIndex: 1000 entries, 0 to 999\n",
            "Data columns (total 25 columns):\n",
            " #   Column                                    Non-Null Count  Dtype  \n",
            "---  ------                                    --------------  -----  \n",
            " 0   Unnamed: 0                                1000 non-null   float64\n",
            " 1   salary                                    1000 non-null   float64\n",
            " 2   age                                       1000 non-null   float64\n",
            " 3   family_members                            1000 non-null   float64\n",
            " 4   target                                    1000 non-null   object \n",
            " 5   city_Екатеринбург                         1000 non-null   uint8  \n",
            " 6   city_Киев                                 1000 non-null   uint8  \n",
            " 7   city_Краснодар                            1000 non-null   uint8  \n",
            " 8   city_Минск                                1000 non-null   uint8  \n",
            " 9   city_Москва                               1000 non-null   uint8  \n",
            " 10  city_Новосибирск                          1000 non-null   uint8  \n",
            " 11  city_Омск                                 1000 non-null   uint8  \n",
            " 12  city_Петербург                            1000 non-null   uint8  \n",
            " 13  city_Томск                                1000 non-null   uint8  \n",
            " 14  city_Хабаровск                            1000 non-null   uint8  \n",
            " 15  city_Ярославль                            1000 non-null   uint8  \n",
            " 16  vacation_preference_Архитектура           1000 non-null   uint8  \n",
            " 17  vacation_preference_Ночные клубы          1000 non-null   uint8  \n",
            " 18  vacation_preference_Пляжный отдых         1000 non-null   uint8  \n",
            " 19  vacation_preference_Шоппинг               1000 non-null   uint8  \n",
            " 20  transport_preference_Автомобиль           1000 non-null   uint8  \n",
            " 21  transport_preference_Космический корабль  1000 non-null   uint8  \n",
            " 22  transport_preference_Морской транспорт    1000 non-null   uint8  \n",
            " 23  transport_preference_Поезд                1000 non-null   uint8  \n",
            " 24  transport_preference_Самолет              1000 non-null   uint8  \n",
            "dtypes: float64(4), object(1), uint8(20)\n",
            "memory usage: 58.7+ KB\n"
          ]
        }
      ]
    },
    {
      "cell_type": "code",
      "metadata": {
        "id": "g57MBIjEQ9HL"
      },
      "source": [
        "X = df.drop([\"target\", \"Unnamed: 0\"], axis=1)\n",
        "Y = df[\"target\"]"
      ],
      "execution_count": null,
      "outputs": []
    },
    {
      "cell_type": "code",
      "metadata": {
        "id": "FgDjZTpHRrAK"
      },
      "source": [
        "from sklearn.ensemble import RandomForestClassifier"
      ],
      "execution_count": null,
      "outputs": []
    },
    {
      "cell_type": "code",
      "metadata": {
        "colab": {
          "base_uri": "https://localhost:8080/"
        },
        "id": "IwOJL4AqSEiF",
        "outputId": "255c412c-3456-4dc7-fd91-781ee1b964e7"
      },
      "source": [
        "model = RandomForestClassifier(n_estimators= 200)\n",
        "model.fit(X, Y) # обучение модели"
      ],
      "execution_count": null,
      "outputs": [
        {
          "output_type": "execute_result",
          "data": {
            "text/plain": [
              "RandomForestClassifier(n_estimators=200)"
            ]
          },
          "metadata": {},
          "execution_count": 16
        }
      ]
    },
    {
      "cell_type": "code",
      "metadata": {
        "colab": {
          "base_uri": "https://localhost:8080/"
        },
        "id": "tOxAvSN2Tul1",
        "outputId": "71333ec3-e039-4096-8ae6-ecc9344cd452"
      },
      "source": [
        "{ col: [0] for col in X.columns }"
      ],
      "execution_count": null,
      "outputs": [
        {
          "output_type": "execute_result",
          "data": {
            "text/plain": [
              "{'salary': [0],\n",
              " 'age': [0],\n",
              " 'family_members': [0],\n",
              " 'city_Екатеринбург': [0],\n",
              " 'city_Киев': [0],\n",
              " 'city_Краснодар': [0],\n",
              " 'city_Минск': [0],\n",
              " 'city_Москва': [0],\n",
              " 'city_Новосибирск': [0],\n",
              " 'city_Омск': [0],\n",
              " 'city_Петербург': [0],\n",
              " 'city_Томск': [0],\n",
              " 'city_Хабаровск': [0],\n",
              " 'city_Ярославль': [0],\n",
              " 'vacation_preference_Архитектура': [0],\n",
              " 'vacation_preference_Ночные клубы': [0],\n",
              " 'vacation_preference_Пляжный отдых': [0],\n",
              " 'vacation_preference_Шоппинг': [0],\n",
              " 'transport_preference_Автомобиль': [0],\n",
              " 'transport_preference_Космический корабль': [0],\n",
              " 'transport_preference_Морской транспорт': [0],\n",
              " 'transport_preference_Поезд': [0],\n",
              " 'transport_preference_Самолет': [0]}"
            ]
          },
          "metadata": {},
          "execution_count": 17
        }
      ]
    },
    {
      "cell_type": "code",
      "metadata": {
        "id": "TYXCGlPQShde"
      },
      "source": [
        "example = {'age': [32],\n",
        " 'city_Екатеринбург': [0],\n",
        " 'city_Киев': [0],\n",
        " 'city_Краснодар': [1],\n",
        " 'city_Минск': [0],\n",
        " 'city_Москва': [0],\n",
        " 'city_Новосибирск': [0],\n",
        " 'city_Омск': [0],\n",
        " 'city_Петербург': [0],\n",
        " 'city_Томск': [0],\n",
        " 'city_Хабаровск': [0],\n",
        " 'city_Ярославль': [0],\n",
        " 'family_members': [0],\n",
        " 'salary': [100000],\n",
        " 'transport_preference_Автомобиль': [0],\n",
        " 'transport_preference_Космический корабль': [0],\n",
        " 'transport_preference_Морской транспорт': [0],\n",
        " 'transport_preference_Поезд': [0],\n",
        " 'transport_preference_Самолет': [1],\n",
        " 'vacation_preference_Архитектура': [1],\n",
        " 'vacation_preference_Ночные клубы': [0],\n",
        " 'vacation_preference_Пляжный отдых': [0],\n",
        " 'vacation_preference_Шоппинг': [0]}"
      ],
      "execution_count": null,
      "outputs": []
    },
    {
      "cell_type": "code",
      "metadata": {
        "colab": {
          "base_uri": "https://localhost:8080/",
          "height": 191
        },
        "id": "zuV0_3DzS5t4",
        "outputId": "bdfea2fc-f6d7-4b2d-bccd-e95d5bb8749b"
      },
      "source": [
        "example_df = pd.DataFrame(example)\n",
        "example_df"
      ],
      "execution_count": null,
      "outputs": [
        {
          "output_type": "execute_result",
          "data": {
            "text/plain": [
              "   age  city_Екатеринбург  city_Киев  city_Краснодар  city_Минск  city_Москва  \\\n",
              "0   32                  0          0               1           0            0   \n",
              "\n",
              "   city_Новосибирск  city_Омск  city_Петербург  city_Томск  ...  salary  \\\n",
              "0                 0          0               0           0  ...  100000   \n",
              "\n",
              "   transport_preference_Автомобиль  transport_preference_Космический корабль  \\\n",
              "0                                0                                         0   \n",
              "\n",
              "   transport_preference_Морской транспорт  transport_preference_Поезд  \\\n",
              "0                                       0                           0   \n",
              "\n",
              "   transport_preference_Самолет  vacation_preference_Архитектура  \\\n",
              "0                             1                                1   \n",
              "\n",
              "   vacation_preference_Ночные клубы  vacation_preference_Пляжный отдых  \\\n",
              "0                                 0                                  0   \n",
              "\n",
              "   vacation_preference_Шоппинг  \n",
              "0                            0  \n",
              "\n",
              "[1 rows x 23 columns]"
            ],
            "text/html": [
              "\n",
              "  <div id=\"df-9c7f0e17-00ee-4548-8e94-930c498bc6e2\">\n",
              "    <div class=\"colab-df-container\">\n",
              "      <div>\n",
              "<style scoped>\n",
              "    .dataframe tbody tr th:only-of-type {\n",
              "        vertical-align: middle;\n",
              "    }\n",
              "\n",
              "    .dataframe tbody tr th {\n",
              "        vertical-align: top;\n",
              "    }\n",
              "\n",
              "    .dataframe thead th {\n",
              "        text-align: right;\n",
              "    }\n",
              "</style>\n",
              "<table border=\"1\" class=\"dataframe\">\n",
              "  <thead>\n",
              "    <tr style=\"text-align: right;\">\n",
              "      <th></th>\n",
              "      <th>age</th>\n",
              "      <th>city_Екатеринбург</th>\n",
              "      <th>city_Киев</th>\n",
              "      <th>city_Краснодар</th>\n",
              "      <th>city_Минск</th>\n",
              "      <th>city_Москва</th>\n",
              "      <th>city_Новосибирск</th>\n",
              "      <th>city_Омск</th>\n",
              "      <th>city_Петербург</th>\n",
              "      <th>city_Томск</th>\n",
              "      <th>...</th>\n",
              "      <th>salary</th>\n",
              "      <th>transport_preference_Автомобиль</th>\n",
              "      <th>transport_preference_Космический корабль</th>\n",
              "      <th>transport_preference_Морской транспорт</th>\n",
              "      <th>transport_preference_Поезд</th>\n",
              "      <th>transport_preference_Самолет</th>\n",
              "      <th>vacation_preference_Архитектура</th>\n",
              "      <th>vacation_preference_Ночные клубы</th>\n",
              "      <th>vacation_preference_Пляжный отдых</th>\n",
              "      <th>vacation_preference_Шоппинг</th>\n",
              "    </tr>\n",
              "  </thead>\n",
              "  <tbody>\n",
              "    <tr>\n",
              "      <th>0</th>\n",
              "      <td>32</td>\n",
              "      <td>0</td>\n",
              "      <td>0</td>\n",
              "      <td>1</td>\n",
              "      <td>0</td>\n",
              "      <td>0</td>\n",
              "      <td>0</td>\n",
              "      <td>0</td>\n",
              "      <td>0</td>\n",
              "      <td>0</td>\n",
              "      <td>...</td>\n",
              "      <td>100000</td>\n",
              "      <td>0</td>\n",
              "      <td>0</td>\n",
              "      <td>0</td>\n",
              "      <td>0</td>\n",
              "      <td>1</td>\n",
              "      <td>1</td>\n",
              "      <td>0</td>\n",
              "      <td>0</td>\n",
              "      <td>0</td>\n",
              "    </tr>\n",
              "  </tbody>\n",
              "</table>\n",
              "<p>1 rows × 23 columns</p>\n",
              "</div>\n",
              "      <button class=\"colab-df-convert\" onclick=\"convertToInteractive('df-9c7f0e17-00ee-4548-8e94-930c498bc6e2')\"\n",
              "              title=\"Convert this dataframe to an interactive table.\"\n",
              "              style=\"display:none;\">\n",
              "        \n",
              "  <svg xmlns=\"http://www.w3.org/2000/svg\" height=\"24px\"viewBox=\"0 0 24 24\"\n",
              "       width=\"24px\">\n",
              "    <path d=\"M0 0h24v24H0V0z\" fill=\"none\"/>\n",
              "    <path d=\"M18.56 5.44l.94 2.06.94-2.06 2.06-.94-2.06-.94-.94-2.06-.94 2.06-2.06.94zm-11 1L8.5 8.5l.94-2.06 2.06-.94-2.06-.94L8.5 2.5l-.94 2.06-2.06.94zm10 10l.94 2.06.94-2.06 2.06-.94-2.06-.94-.94-2.06-.94 2.06-2.06.94z\"/><path d=\"M17.41 7.96l-1.37-1.37c-.4-.4-.92-.59-1.43-.59-.52 0-1.04.2-1.43.59L10.3 9.45l-7.72 7.72c-.78.78-.78 2.05 0 2.83L4 21.41c.39.39.9.59 1.41.59.51 0 1.02-.2 1.41-.59l7.78-7.78 2.81-2.81c.8-.78.8-2.07 0-2.86zM5.41 20L4 18.59l7.72-7.72 1.47 1.35L5.41 20z\"/>\n",
              "  </svg>\n",
              "      </button>\n",
              "      \n",
              "  <style>\n",
              "    .colab-df-container {\n",
              "      display:flex;\n",
              "      flex-wrap:wrap;\n",
              "      gap: 12px;\n",
              "    }\n",
              "\n",
              "    .colab-df-convert {\n",
              "      background-color: #E8F0FE;\n",
              "      border: none;\n",
              "      border-radius: 50%;\n",
              "      cursor: pointer;\n",
              "      display: none;\n",
              "      fill: #1967D2;\n",
              "      height: 32px;\n",
              "      padding: 0 0 0 0;\n",
              "      width: 32px;\n",
              "    }\n",
              "\n",
              "    .colab-df-convert:hover {\n",
              "      background-color: #E2EBFA;\n",
              "      box-shadow: 0px 1px 2px rgba(60, 64, 67, 0.3), 0px 1px 3px 1px rgba(60, 64, 67, 0.15);\n",
              "      fill: #174EA6;\n",
              "    }\n",
              "\n",
              "    [theme=dark] .colab-df-convert {\n",
              "      background-color: #3B4455;\n",
              "      fill: #D2E3FC;\n",
              "    }\n",
              "\n",
              "    [theme=dark] .colab-df-convert:hover {\n",
              "      background-color: #434B5C;\n",
              "      box-shadow: 0px 1px 3px 1px rgba(0, 0, 0, 0.15);\n",
              "      filter: drop-shadow(0px 1px 2px rgba(0, 0, 0, 0.3));\n",
              "      fill: #FFFFFF;\n",
              "    }\n",
              "  </style>\n",
              "\n",
              "      <script>\n",
              "        const buttonEl =\n",
              "          document.querySelector('#df-9c7f0e17-00ee-4548-8e94-930c498bc6e2 button.colab-df-convert');\n",
              "        buttonEl.style.display =\n",
              "          google.colab.kernel.accessAllowed ? 'block' : 'none';\n",
              "\n",
              "        async function convertToInteractive(key) {\n",
              "          const element = document.querySelector('#df-9c7f0e17-00ee-4548-8e94-930c498bc6e2');\n",
              "          const dataTable =\n",
              "            await google.colab.kernel.invokeFunction('convertToInteractive',\n",
              "                                                     [key], {});\n",
              "          if (!dataTable) return;\n",
              "\n",
              "          const docLinkHtml = 'Like what you see? Visit the ' +\n",
              "            '<a target=\"_blank\" href=https://colab.research.google.com/notebooks/data_table.ipynb>data table notebook</a>'\n",
              "            + ' to learn more about interactive tables.';\n",
              "          element.innerHTML = '';\n",
              "          dataTable['output_type'] = 'display_data';\n",
              "          await google.colab.output.renderOutput(dataTable, element);\n",
              "          const docLink = document.createElement('div');\n",
              "          docLink.innerHTML = docLinkHtml;\n",
              "          element.appendChild(docLink);\n",
              "        }\n",
              "      </script>\n",
              "    </div>\n",
              "  </div>\n",
              "  "
            ]
          },
          "metadata": {},
          "execution_count": 19
        }
      ]
    },
    {
      "cell_type": "code",
      "source": [
        "# X.info()"
      ],
      "metadata": {
        "id": "j4Cp1NHqYnd9"
      },
      "execution_count": null,
      "outputs": []
    },
    {
      "cell_type": "code",
      "source": [
        "# df.head(15)"
      ],
      "metadata": {
        "id": "rLrk4M6Cn0EJ"
      },
      "execution_count": null,
      "outputs": []
    },
    {
      "cell_type": "code",
      "metadata": {
        "colab": {
          "base_uri": "https://localhost:8080/"
        },
        "id": "LvMpQspOTW_4",
        "outputId": "c28d2d7c-320a-4d80-e963-3f154f716497"
      },
      "source": [
        "model.predict(example_df)"
      ],
      "execution_count": null,
      "outputs": [
        {
          "output_type": "stream",
          "name": "stderr",
          "text": [
            "/usr/local/lib/python3.8/dist-packages/sklearn/base.py:493: FutureWarning: The feature names should match those that were passed during fit. Starting version 1.2, an error will be raised.\n",
            "Feature names must be in the same order as they were in fit.\n",
            "\n",
            "  warnings.warn(message, FutureWarning)\n"
          ]
        },
        {
          "output_type": "execute_result",
          "data": {
            "text/plain": [
              "array(['Paris'], dtype=object)"
            ]
          },
          "metadata": {},
          "execution_count": 22
        }
      ]
    },
    {
      "cell_type": "code",
      "metadata": {
        "id": "U3GlZ4bQUV1P",
        "colab": {
          "base_uri": "https://localhost:8080/"
        },
        "outputId": "0890b212-46a7-414c-ea7f-7d5b906cd4b0"
      },
      "source": [
        "model.classes_"
      ],
      "execution_count": null,
      "outputs": [
        {
          "output_type": "execute_result",
          "data": {
            "text/plain": [
              "array(['London', 'New York', 'Paris', 'Sydney', 'Tokio'], dtype=object)"
            ]
          },
          "metadata": {},
          "execution_count": 23
        }
      ]
    },
    {
      "cell_type": "code",
      "metadata": {
        "id": "8dgbIVtUUjVn",
        "colab": {
          "base_uri": "https://localhost:8080/"
        },
        "outputId": "a8d3f714-db3e-4fc5-81fb-25b592f122d4"
      },
      "source": [
        "model.predict_proba(example_df)"
      ],
      "execution_count": null,
      "outputs": [
        {
          "output_type": "stream",
          "name": "stderr",
          "text": [
            "/usr/local/lib/python3.8/dist-packages/sklearn/base.py:493: FutureWarning: The feature names should match those that were passed during fit. Starting version 1.2, an error will be raised.\n",
            "Feature names must be in the same order as they were in fit.\n",
            "\n",
            "  warnings.warn(message, FutureWarning)\n"
          ]
        },
        {
          "output_type": "execute_result",
          "data": {
            "text/plain": [
              "array([[0.235, 0.15 , 0.55 , 0.01 , 0.055]])"
            ]
          },
          "metadata": {},
          "execution_count": 24
        }
      ]
    },
    {
      "cell_type": "code",
      "source": [
        "model.score(X, Y)"
      ],
      "metadata": {
        "colab": {
          "base_uri": "https://localhost:8080/"
        },
        "id": "G3dKHQUY-0ua",
        "outputId": "089d606c-3072-4140-ce47-fb8d925da8a2"
      },
      "execution_count": null,
      "outputs": [
        {
          "output_type": "execute_result",
          "data": {
            "text/plain": [
              "0.999"
            ]
          },
          "metadata": {},
          "execution_count": 25
        }
      ]
    },
    {
      "cell_type": "markdown",
      "source": [
        "Вначале попробуем  изменить параметры уже известной нам нейронной сети\n"
      ],
      "metadata": {
        "id": "JUDuLPXG-PEj"
      }
    },
    {
      "cell_type": "code",
      "source": [
        "model_2 = RandomForestClassifier(n_estimators= 100)\n",
        "model_2.fit(X, Y) # обучение модели\n",
        "print(model_2.predict(example_df))\n",
        "print(model_2.predict_proba(example_df))\n",
        "model_2.score(X, Y)"
      ],
      "metadata": {
        "colab": {
          "base_uri": "https://localhost:8080/"
        },
        "id": "TDpWuXZv-WYF",
        "outputId": "8af0d182-0704-4a6b-b172-047f82973722"
      },
      "execution_count": null,
      "outputs": [
        {
          "output_type": "stream",
          "name": "stdout",
          "text": [
            "['Paris']\n",
            "[[0.27 0.18 0.52 0.01 0.02]]\n"
          ]
        },
        {
          "output_type": "stream",
          "name": "stderr",
          "text": [
            "/usr/local/lib/python3.8/dist-packages/sklearn/base.py:493: FutureWarning: The feature names should match those that were passed during fit. Starting version 1.2, an error will be raised.\n",
            "Feature names must be in the same order as they were in fit.\n",
            "\n",
            "  warnings.warn(message, FutureWarning)\n",
            "/usr/local/lib/python3.8/dist-packages/sklearn/base.py:493: FutureWarning: The feature names should match those that were passed during fit. Starting version 1.2, an error will be raised.\n",
            "Feature names must be in the same order as they were in fit.\n",
            "\n",
            "  warnings.warn(message, FutureWarning)\n"
          ]
        },
        {
          "output_type": "execute_result",
          "data": {
            "text/plain": [
              "0.999"
            ]
          },
          "metadata": {},
          "execution_count": 26
        }
      ]
    },
    {
      "cell_type": "markdown",
      "source": [
        "class sklearn.ensemble.RandomForestRegressor(\n",
        "    - n_estimators — число деревьев в \"лесу\" (по дефолту – 10)\n",
        "    - criterion — функция, которая измеряет качество разбиения ветки дерева (по дефолту — \"mse\" , так же можно выбрать \"mae\")\n",
        "    -  max_features — число признаков, по которым ищется разбиение. Вы можете указать конкретное число или процент признаков, либо выбрать из доступных значений: \"auto\" (все признаки), \"sqrt\", \"log2\". По дефолту стоит \"auto\".\n",
        "    - max_depth — максимальная глубина дерева  (по дефолту глубина не ограничена)\n",
        "  -  min_samples_split — минимальное количество объектов, необходимое для разделения внутреннего узла. Можно задать числом или процентом от общего числа объектов (по дефолту — 2)\n",
        "   - min_samples_leaf — минимальное число объектов в листе. Можно задать числом или процентом от общего числа объектов (по дефолту — 1)\n",
        "   - min_weight_fraction_leaf — минимальная взвешенная доля от общей суммы весов (всех входных объектов) должна быть в листе (по дефолту имеют одинаковый вес)\n",
        "  -  max_leaf_nodes — максимальное количество листьев (по дефолту нет ограничения)\n",
        "  -  min_impurity_split — порог для остановки наращивания дерева (по дефолту 1е-7)\n",
        "  -  bootstrap — применять ли бустрэп для построения дерева (по дефолту True)\n",
        "  -  oob_score — использовать ли out-of-bag объекты для оценки R^2 (по дефолту False)\n",
        " -   n_jobs — количество ядер для построения модели и предсказаний (по дефолту 1, если поставить -1, то будут использоваться все ядра)\n",
        " -   random_state — начальное значение для генерации случайных чисел (по дефолту его нет, если хотите воспроизводимые результаты, то нужно указать любое число типа int\n",
        "  -  verbose — вывод логов по построению деревьев (по дефолту 0)\n",
        "  -  warm_start — использует уже натренированую модель и добавляет деревьев в ансамбль (по дефолту False)\n",
        ")"
      ],
      "metadata": {
        "id": "mPirrpJ2BaAA"
      }
    },
    {
      "cell_type": "code",
      "source": [
        "model_2 = RandomForestClassifier(n_estimators= 100,max_leaf_nodes=5)\n",
        "model_2.fit(X, Y) # обучение модели\n",
        "print(model_2.predict(example_df))\n",
        "print(model_2.predict_proba(example_df))\n",
        "model_2.score(X, Y)"
      ],
      "metadata": {
        "colab": {
          "base_uri": "https://localhost:8080/"
        },
        "id": "HS22amatBtW6",
        "outputId": "d20b01d5-495b-4199-e352-307d1167018d"
      },
      "execution_count": null,
      "outputs": [
        {
          "output_type": "stream",
          "name": "stdout",
          "text": [
            "['Paris']\n",
            "[[0.22658207 0.25790741 0.32551718 0.10461997 0.08537337]]\n"
          ]
        },
        {
          "output_type": "stream",
          "name": "stderr",
          "text": [
            "/usr/local/lib/python3.8/dist-packages/sklearn/base.py:493: FutureWarning: The feature names should match those that were passed during fit. Starting version 1.2, an error will be raised.\n",
            "Feature names must be in the same order as they were in fit.\n",
            "\n",
            "  warnings.warn(message, FutureWarning)\n",
            "/usr/local/lib/python3.8/dist-packages/sklearn/base.py:493: FutureWarning: The feature names should match those that were passed during fit. Starting version 1.2, an error will be raised.\n",
            "Feature names must be in the same order as they were in fit.\n",
            "\n",
            "  warnings.warn(message, FutureWarning)\n"
          ]
        },
        {
          "output_type": "execute_result",
          "data": {
            "text/plain": [
              "0.754"
            ]
          },
          "metadata": {},
          "execution_count": 27
        }
      ]
    },
    {
      "cell_type": "code",
      "source": [
        "model_2 = RandomForestClassifier(n_estimators= 500)\n",
        "model_2.fit(X, Y) # обучение модели\n",
        "print(model_2.predict(example_df))\n",
        "print(model_2.predict_proba(example_df))\n",
        "model_2.score(X, Y)"
      ],
      "metadata": {
        "colab": {
          "base_uri": "https://localhost:8080/"
        },
        "id": "T0zvOkV4XqSf",
        "outputId": "73fc092d-639d-46c3-8648-8f4cf95dd407"
      },
      "execution_count": null,
      "outputs": [
        {
          "output_type": "stream",
          "name": "stderr",
          "text": [
            "/usr/local/lib/python3.8/dist-packages/sklearn/base.py:493: FutureWarning: The feature names should match those that were passed during fit. Starting version 1.2, an error will be raised.\n",
            "Feature names must be in the same order as they were in fit.\n",
            "\n",
            "  warnings.warn(message, FutureWarning)\n",
            "/usr/local/lib/python3.8/dist-packages/sklearn/base.py:493: FutureWarning: The feature names should match those that were passed during fit. Starting version 1.2, an error will be raised.\n",
            "Feature names must be in the same order as they were in fit.\n",
            "\n",
            "  warnings.warn(message, FutureWarning)\n"
          ]
        },
        {
          "output_type": "stream",
          "name": "stdout",
          "text": [
            "['Paris']\n",
            "[[0.296 0.15  0.468 0.032 0.054]]\n"
          ]
        },
        {
          "output_type": "execute_result",
          "data": {
            "text/plain": [
              "0.999"
            ]
          },
          "metadata": {},
          "execution_count": 40
        }
      ]
    },
    {
      "cell_type": "code",
      "source": [
        "model_2 = RandomForestClassifier(n_estimators= 5000,max_leaf_nodes=5)\n",
        "model_2.fit(X, Y) # обучение модели\n",
        "print(model_2.predict(example_df))\n",
        "print(model_2.predict_proba(example_df))\n",
        "model_2.score(X, Y)"
      ],
      "metadata": {
        "colab": {
          "base_uri": "https://localhost:8080/"
        },
        "id": "uvpZld2-X1p-",
        "outputId": "d612b6bb-7504-4f98-9513-bd8dae10af42"
      },
      "execution_count": null,
      "outputs": [
        {
          "output_type": "stream",
          "name": "stderr",
          "text": [
            "/usr/local/lib/python3.8/dist-packages/sklearn/base.py:493: FutureWarning: The feature names should match those that were passed during fit. Starting version 1.2, an error will be raised.\n",
            "Feature names must be in the same order as they were in fit.\n",
            "\n",
            "  warnings.warn(message, FutureWarning)\n"
          ]
        },
        {
          "output_type": "stream",
          "name": "stdout",
          "text": [
            "['Paris']\n"
          ]
        },
        {
          "output_type": "stream",
          "name": "stderr",
          "text": [
            "/usr/local/lib/python3.8/dist-packages/sklearn/base.py:493: FutureWarning: The feature names should match those that were passed during fit. Starting version 1.2, an error will be raised.\n",
            "Feature names must be in the same order as they were in fit.\n",
            "\n",
            "  warnings.warn(message, FutureWarning)\n"
          ]
        },
        {
          "output_type": "stream",
          "name": "stdout",
          "text": [
            "[[0.22058853 0.24999706 0.34092977 0.09999857 0.08848606]]\n"
          ]
        },
        {
          "output_type": "execute_result",
          "data": {
            "text/plain": [
              "0.761"
            ]
          },
          "metadata": {},
          "execution_count": 43
        }
      ]
    },
    {
      "cell_type": "markdown",
      "source": [
        "**Метод ближайших соседий**\n"
      ],
      "metadata": {
        "id": "AGIs80CLXAlz"
      }
    },
    {
      "cell_type": "markdown",
      "source": [
        "тест 1 "
      ],
      "metadata": {
        "id": "1K2VqZl-XNb0"
      }
    },
    {
      "cell_type": "code",
      "source": [
        "from sklearn import neighbors\n",
        "\n",
        "knn = neighbors.KNeighborsClassifier(n_neighbors=100)\n",
        "knn.fit(X, Y)\n",
        "print(knn.predict(example_df))\n",
        "print(knn.predict_proba(example_df))\n",
        "knn.score(X,Y)"
      ],
      "metadata": {
        "colab": {
          "base_uri": "https://localhost:8080/"
        },
        "id": "tJ4yD24tFKHu",
        "outputId": "8a699a80-d078-48d3-d693-1194a768c575"
      },
      "execution_count": null,
      "outputs": [
        {
          "output_type": "stream",
          "name": "stdout",
          "text": [
            "['Paris']\n",
            "[[0.18 0.18 0.28 0.23 0.13]]\n"
          ]
        },
        {
          "output_type": "stream",
          "name": "stderr",
          "text": [
            "/usr/local/lib/python3.8/dist-packages/sklearn/base.py:493: FutureWarning: The feature names should match those that were passed during fit. Starting version 1.2, an error will be raised.\n",
            "Feature names must be in the same order as they were in fit.\n",
            "\n",
            "  warnings.warn(message, FutureWarning)\n",
            "/usr/local/lib/python3.8/dist-packages/sklearn/base.py:493: FutureWarning: The feature names should match those that were passed during fit. Starting version 1.2, an error will be raised.\n",
            "Feature names must be in the same order as they were in fit.\n",
            "\n",
            "  warnings.warn(message, FutureWarning)\n"
          ]
        },
        {
          "output_type": "execute_result",
          "data": {
            "text/plain": [
              "0.335"
            ]
          },
          "metadata": {},
          "execution_count": 37
        }
      ]
    },
    {
      "cell_type": "markdown",
      "source": [
        "Тест 2"
      ],
      "metadata": {
        "id": "0wGdZXj1XQWf"
      }
    },
    {
      "cell_type": "code",
      "source": [
        "from sklearn import neighbors\n",
        "\n",
        "knn = neighbors.KNeighborsClassifier(n_neighbors=50)\n",
        "knn.fit(X, Y)\n",
        "print(knn.predict(example_df))\n",
        "print(knn.predict_proba(example_df))\n",
        "knn.score(X,Y)"
      ],
      "metadata": {
        "colab": {
          "base_uri": "https://localhost:8080/"
        },
        "id": "HMcDbshFXS2c",
        "outputId": "b0a9af44-e22e-490b-e9f7-81067221fa46"
      },
      "execution_count": null,
      "outputs": [
        {
          "output_type": "stream",
          "name": "stdout",
          "text": [
            "['Sydney']\n",
            "[[0.18 0.2  0.22 0.34 0.06]]\n"
          ]
        },
        {
          "output_type": "stream",
          "name": "stderr",
          "text": [
            "/usr/local/lib/python3.8/dist-packages/sklearn/base.py:493: FutureWarning: The feature names should match those that were passed during fit. Starting version 1.2, an error will be raised.\n",
            "Feature names must be in the same order as they were in fit.\n",
            "\n",
            "  warnings.warn(message, FutureWarning)\n",
            "/usr/local/lib/python3.8/dist-packages/sklearn/base.py:493: FutureWarning: The feature names should match those that were passed during fit. Starting version 1.2, an error will be raised.\n",
            "Feature names must be in the same order as they were in fit.\n",
            "\n",
            "  warnings.warn(message, FutureWarning)\n"
          ]
        },
        {
          "output_type": "execute_result",
          "data": {
            "text/plain": [
              "0.374"
            ]
          },
          "metadata": {},
          "execution_count": 38
        }
      ]
    },
    {
      "cell_type": "markdown",
      "source": [
        "Для начала определим метрику, по которой будем определять расстояние между объектами. Обозначим через 𝑥=(𝑥1,𝑥2,…,𝑥𝑛)x=(x1,x2,…,xn) координаты объекта 𝑥x в n-мерном пространстве, а через 𝑦=(𝑦1,𝑦2,…,𝑦𝑛)y=(y1,y2,…,yn) - координаты объекта 𝑦y.\n",
        "\n",
        "По умолчанию алгоритм использует метрику Минковского, которая в случае степени p = 2 обращается во всем известную из школьной геометрии Евклидову метрику - расстояние между двумя точками в пространстве\n",
        "Объект knn инкапсулирует алгоритм, который будет использоваться для построения модели из обучающих данных, а также для прогнозирования новых точек данных. Он также будет содержать информацию, которую алгоритм извлек из обучающих данных. В случае KNeighborsClassifier он будет просто хранить учебный набор.\n",
        "https://habr.com/ru/post/680004/"
      ],
      "metadata": {
        "id": "kbYlYx5uHPIw"
      }
    },
    {
      "cell_type": "markdown",
      "source": [
        "**Рекурсивная нейроннная сеть**"
      ],
      "metadata": {
        "id": "lV4RE6uhWoqo"
      }
    },
    {
      "cell_type": "code",
      "source": [
        "from sklearn.feature_selection  import RFE\n",
        "\n",
        "rfe = RFE(estimator=RandomForestClassifier(), n_features_to_select=10)\n",
        "X_new = rfe.fit_transform(X, Y)\n",
        "print(rfe.predict(example_df))\n",
        "print(rfe.predict_proba(example_df))\n",
        "rfe.score(X,Y)"
      ],
      "metadata": {
        "id": "8EBHm00JJMpZ",
        "colab": {
          "base_uri": "https://localhost:8080/"
        },
        "outputId": "970e8c09-c2a4-4d55-d8ce-41303f3cbbde"
      },
      "execution_count": null,
      "outputs": [
        {
          "output_type": "stream",
          "name": "stdout",
          "text": [
            "['Paris']\n",
            "[[0.07 0.15 0.75 0.03 0.  ]]\n"
          ]
        },
        {
          "output_type": "stream",
          "name": "stderr",
          "text": [
            "/usr/local/lib/python3.8/dist-packages/sklearn/base.py:493: FutureWarning: The feature names should match those that were passed during fit. Starting version 1.2, an error will be raised.\n",
            "Feature names must be in the same order as they were in fit.\n",
            "\n",
            "  warnings.warn(message, FutureWarning)\n",
            "/usr/local/lib/python3.8/dist-packages/sklearn/base.py:493: FutureWarning: The feature names should match those that were passed during fit. Starting version 1.2, an error will be raised.\n",
            "Feature names must be in the same order as they were in fit.\n",
            "\n",
            "  warnings.warn(message, FutureWarning)\n"
          ]
        },
        {
          "output_type": "execute_result",
          "data": {
            "text/plain": [
              "0.998"
            ]
          },
          "metadata": {},
          "execution_count": 36
        }
      ]
    },
    {
      "cell_type": "code",
      "source": [
        "from sklearn.feature_selection  import RFE\n",
        "\n",
        "rfe = RFE(estimator=RandomForestClassifier(), n_features_to_select=50)\n",
        "X_new = rfe.fit_transform(X, Y)\n",
        "print(rfe.predict(example_df))\n",
        "print(rfe.predict_proba(example_df))\n",
        "rfe.score(X,Y)"
      ],
      "metadata": {
        "colab": {
          "base_uri": "https://localhost:8080/"
        },
        "id": "npywV3n5YU-D",
        "outputId": "2804bdea-6b15-471f-b814-0c169d32c801"
      },
      "execution_count": null,
      "outputs": [
        {
          "output_type": "stream",
          "name": "stdout",
          "text": [
            "['Paris']\n",
            "[[0.22 0.16 0.53 0.01 0.08]]\n"
          ]
        },
        {
          "output_type": "stream",
          "name": "stderr",
          "text": [
            "/usr/local/lib/python3.8/dist-packages/sklearn/base.py:493: FutureWarning: The feature names should match those that were passed during fit. Starting version 1.2, an error will be raised.\n",
            "Feature names must be in the same order as they were in fit.\n",
            "\n",
            "  warnings.warn(message, FutureWarning)\n",
            "/usr/local/lib/python3.8/dist-packages/sklearn/base.py:493: FutureWarning: The feature names should match those that were passed during fit. Starting version 1.2, an error will be raised.\n",
            "Feature names must be in the same order as they were in fit.\n",
            "\n",
            "  warnings.warn(message, FutureWarning)\n"
          ]
        },
        {
          "output_type": "execute_result",
          "data": {
            "text/plain": [
              "0.999"
            ]
          },
          "metadata": {},
          "execution_count": 44
        }
      ]
    },
    {
      "cell_type": "code",
      "source": [
        "from sklearn.feature_selection  import RFE\n",
        "\n",
        "rfe = RFE(estimator=RandomForestClassifier(), n_features_to_select=1)\n",
        "X_new = rfe.fit_transform(X, Y)\n",
        "print(rfe.predict(example_df))\n",
        "print(rfe.predict_proba(example_df))\n",
        "rfe.score(X,Y)"
      ],
      "metadata": {
        "colab": {
          "base_uri": "https://localhost:8080/"
        },
        "id": "6FwpJiBiYaXp",
        "outputId": "54caad75-1a8f-4cce-c485-7b59834314be"
      },
      "execution_count": null,
      "outputs": [
        {
          "output_type": "stream",
          "name": "stdout",
          "text": [
            "['Paris']\n",
            "[[0.2  0.01 0.63 0.16 0.  ]]\n"
          ]
        },
        {
          "output_type": "stream",
          "name": "stderr",
          "text": [
            "/usr/local/lib/python3.8/dist-packages/sklearn/base.py:493: FutureWarning: The feature names should match those that were passed during fit. Starting version 1.2, an error will be raised.\n",
            "Feature names must be in the same order as they were in fit.\n",
            "\n",
            "  warnings.warn(message, FutureWarning)\n",
            "/usr/local/lib/python3.8/dist-packages/sklearn/base.py:493: FutureWarning: The feature names should match those that were passed during fit. Starting version 1.2, an error will be raised.\n",
            "Feature names must be in the same order as they were in fit.\n",
            "\n",
            "  warnings.warn(message, FutureWarning)\n"
          ]
        },
        {
          "output_type": "execute_result",
          "data": {
            "text/plain": [
              "0.487"
            ]
          },
          "metadata": {},
          "execution_count": 46
        }
      ]
    },
    {
      "cell_type": "markdown",
      "source": [
        "В документации sklearn написано, что цель recursive feature elimination (RFE), исключения рекурсивных признаков, — выбрать признаки путем рекурсивного рассмотрения все меньших и меньших наборов признаков. Будем использовать для этого модуль sklearn.feature_selection для импорта класса RFE. RFE требует двух гиперпараметров:\n",
        "\n",
        "- n_features_to_select: количество функций, которые мы хотим выбрать.\n",
        "- estimator: какой тип модели машинного обучения будет использоваться для прогнозирования на каждой итерации при рекурсивном поиске соответствующего набора признаков."
      ],
      "metadata": {
        "id": "zkCaVrXXSId2"
      }
    }
  ]
}